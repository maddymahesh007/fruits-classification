{
 "cells": [
  {
   "cell_type": "code",
   "execution_count": 26,
   "id": "a4cc9d73",
   "metadata": {},
   "outputs": [],
   "source": [
    "from keras.models import Sequential\n",
    "from keras.layers import Convolution2D\n",
    "from keras.layers import MaxPooling2D\n",
    "from keras.layers import Flatten\n",
    "from keras.layers import Dense\n",
    "from keras.models import model_from_json\n",
    "from tensorflow.keras.preprocessing.image import ImageDataGenerator\n",
    "import tensorflow as tf\n",
    "from tensorflow.keras.optimizers import RMSprop\n"
   ]
  },
  {
   "cell_type": "code",
   "execution_count": 27,
   "id": "de0fe942",
   "metadata": {},
   "outputs": [],
   "source": [
    " batch_size = 32\n",
    "   "
   ]
  },
  {
   "cell_type": "code",
   "execution_count": 28,
   "id": "937346cc",
   "metadata": {},
   "outputs": [],
   "source": [
    "train_datagen = ImageDataGenerator(rescale=1/255)\n"
   ]
  },
  {
   "cell_type": "code",
   "execution_count": 31,
   "id": "58a5e2bc",
   "metadata": {},
   "outputs": [
    {
     "name": "stdout",
     "output_type": "stream",
     "text": [
      "Found 786 images belonging to 9 classes.\n"
     ]
    }
   ],
   "source": [
    "train_generator = train_datagen.flow_from_directory(\n",
    "        'new',  \n",
    "        target_size=(200, 200),  \n",
    "        batch_size=batch_size,\n",
    "        classes = ['watermelon','tomato','turnip','sweetpotato','spinach','sweetcorn','soy beans','potato','raddish'],\n",
    "        class_mode='categorical')"
   ]
  },
  {
   "cell_type": "code",
   "execution_count": 38,
   "id": "c8c15439",
   "metadata": {},
   "outputs": [],
   "source": [
    "import tensorflow as tf\n",
    "\n",
    "model = tf.keras.models.Sequential([\n",
    "    tf.keras.layers.Conv2D(16, (3,3), activation='relu', input_shape=(200, 200, 3)),\n",
    "    tf.keras.layers.MaxPooling2D(2, 2),\n",
    "    tf.keras.layers.Conv2D(32, (3,3), activation='relu'),\n",
    "    tf.keras.layers.MaxPooling2D(2, 2),\n",
    "    tf.keras.layers.Conv2D(64, (3,3), activation='relu'),\n",
    "    tf.keras.layers.MaxPooling2D(2, 2),\n",
    "    tf.keras.layers.Conv2D(64, (3,3), activation='relu'),\n",
    "    tf.keras.layers.MaxPooling2D(2, 2),\n",
    "    tf.keras.layers.Conv2D(64, (3,3), activation='relu'),\n",
    "    tf.keras.layers.MaxPooling2D(2, 2),\n",
    "    tf.keras.layers.Flatten(),\n",
    "    tf.keras.layers.Dense(128),\n",
    "    tf.keras.layers.LeakyReLU(alpha=0.01),  # Corrected Leaky ReLU activation\n",
    "    tf.keras.layers.Dense(9, activation='softmax')\n",
    "])\n"
   ]
  },
  {
   "cell_type": "code",
   "execution_count": 39,
   "id": "c2940d9a",
   "metadata": {},
   "outputs": [
    {
     "name": "stderr",
     "output_type": "stream",
     "text": [
      "WARNING:absl:`lr` is deprecated in Keras optimizer, please use `learning_rate` or use the legacy optimizer, e.g.,tf.keras.optimizers.legacy.RMSprop.\n"
     ]
    }
   ],
   "source": [
    "model.compile(loss='categorical_crossentropy',\n",
    "              optimizer=RMSprop(lr=0.001),\n",
    "              metrics=['acc'])"
   ]
  },
  {
   "cell_type": "code",
   "execution_count": 40,
   "id": "8237799c",
   "metadata": {},
   "outputs": [],
   "source": [
    "total_sample=train_generator.n\n",
    "n_epochs = 30\n"
   ]
  },
  {
   "cell_type": "code",
   "execution_count": 41,
   "id": "791a0f8c",
   "metadata": {},
   "outputs": [
    {
     "name": "stderr",
     "output_type": "stream",
     "text": [
      "C:\\Users\\mahes\\AppData\\Local\\Temp\\ipykernel_35076\\2797690472.py:1: UserWarning: `Model.fit_generator` is deprecated and will be removed in a future version. Please use `Model.fit`, which supports generators.\n",
      "  history = model.fit_generator(\n"
     ]
    },
    {
     "name": "stdout",
     "output_type": "stream",
     "text": [
      "Epoch 1/30\n",
      "24/24 [==============================] - 96s 4s/step - loss: 2.1481 - acc: 0.1671\n",
      "Epoch 2/30\n",
      "24/24 [==============================] - 79s 3s/step - loss: 1.9677 - acc: 0.2427\n",
      "Epoch 3/30\n",
      "24/24 [==============================] - 80s 3s/step - loss: 1.7383 - acc: 0.3210\n",
      "Epoch 4/30\n",
      "24/24 [==============================] - 77s 3s/step - loss: 1.6374 - acc: 0.4218\n",
      "Epoch 5/30\n",
      "24/24 [==============================] - 79s 3s/step - loss: 1.5002 - acc: 0.4523\n",
      "Epoch 6/30\n",
      "24/24 [==============================] - 77s 3s/step - loss: 1.2994 - acc: 0.5186\n",
      "Epoch 7/30\n",
      "24/24 [==============================] - 78s 3s/step - loss: 1.1657 - acc: 0.5794\n",
      "Epoch 8/30\n",
      "24/24 [==============================] - 76s 3s/step - loss: 1.0711 - acc: 0.5981\n",
      "Epoch 9/30\n",
      "24/24 [==============================] - 77s 3s/step - loss: 1.1087 - acc: 0.5769\n",
      "Epoch 10/30\n",
      "24/24 [==============================] - 78s 3s/step - loss: 1.0075 - acc: 0.6247\n",
      "Epoch 11/30\n",
      "24/24 [==============================] - 76s 3s/step - loss: 1.0066 - acc: 0.6446\n",
      "Epoch 12/30\n",
      "24/24 [==============================] - 76s 3s/step - loss: 0.8791 - acc: 0.6671\n",
      "Epoch 13/30\n",
      "24/24 [==============================] - 76s 3s/step - loss: 0.9224 - acc: 0.6472\n",
      "Epoch 14/30\n",
      "24/24 [==============================] - 80s 3s/step - loss: 0.7855 - acc: 0.7188\n",
      "Epoch 15/30\n",
      "24/24 [==============================] - 89s 4s/step - loss: 0.7665 - acc: 0.7268\n",
      "Epoch 16/30\n",
      "24/24 [==============================] - 81s 3s/step - loss: 0.7579 - acc: 0.7255\n",
      "Epoch 17/30\n",
      "24/24 [==============================] - 75s 3s/step - loss: 0.6456 - acc: 0.7653\n",
      "Epoch 18/30\n",
      "24/24 [==============================] - 77s 3s/step - loss: 0.6263 - acc: 0.7692\n",
      "Epoch 19/30\n",
      "24/24 [==============================] - 79s 3s/step - loss: 0.5653 - acc: 0.7918\n",
      "Epoch 20/30\n",
      "24/24 [==============================] - 81s 3s/step - loss: 0.5270 - acc: 0.8143\n",
      "Epoch 21/30\n",
      "24/24 [==============================] - 82s 3s/step - loss: 0.5048 - acc: 0.8329\n",
      "Epoch 22/30\n",
      "24/24 [==============================] - 77s 3s/step - loss: 0.3873 - acc: 0.8700\n",
      "Epoch 23/30\n",
      "24/24 [==============================] - 81s 3s/step - loss: 0.4959 - acc: 0.8223\n",
      "Epoch 24/30\n",
      "24/24 [==============================] - 85s 4s/step - loss: 0.3875 - acc: 0.8700\n",
      "Epoch 25/30\n",
      "24/24 [==============================] - 87s 4s/step - loss: 0.2547 - acc: 0.9125\n",
      "Epoch 26/30\n",
      "24/24 [==============================] - 79s 3s/step - loss: 0.3163 - acc: 0.8859\n",
      "Epoch 27/30\n",
      "24/24 [==============================] - 74s 3s/step - loss: 0.2853 - acc: 0.9019\n",
      "Epoch 28/30\n",
      "24/24 [==============================] - 80s 3s/step - loss: 0.2914 - acc: 0.9218\n",
      "Epoch 29/30\n",
      "24/24 [==============================] - 78s 3s/step - loss: 0.2040 - acc: 0.9337\n",
      "Epoch 30/30\n",
      "24/24 [==============================] - 79s 3s/step - loss: 0.1966 - acc: 0.9297\n"
     ]
    }
   ],
   "source": [
    "history = model.fit_generator(\n",
    "        train_generator, \n",
    "        steps_per_epoch=int(total_sample/batch_size),  \n",
    "        epochs=n_epochs,\n",
    "        verbose=1)    "
   ]
  },
  {
   "cell_type": "code",
   "execution_count": 42,
   "id": "cd4f114b",
   "metadata": {},
   "outputs": [],
   "source": [
    "model.save('fruits.h5')\n"
   ]
  },
  {
   "cell_type": "code",
   "execution_count": 46,
   "id": "1750dc71",
   "metadata": {},
   "outputs": [
    {
     "name": "stdout",
     "output_type": "stream",
     "text": [
      "1/1 [==============================] - 1s 510ms/step\n",
      "[[0. 0. 0. 0. 0. 1. 0. 0. 0.]]\n",
      "sweetcorn\n"
     ]
    }
   ],
   "source": [
    "\n",
    "\n",
    "import tensorflow as tf \n",
    "classifierLoad = tf.keras.models.load_model('fruits.h5')\n",
    "\n",
    "import numpy as np\n",
    "from keras.preprocessing import image\n",
    "test_image = image.load_img('sweety.jpg', target_size = (200,200))\n",
    "test_image = np.expand_dims(test_image, axis=0)\n",
    "result = classifierLoad.predict(test_image)\n",
    "print(result)\n",
    "if result[0][0] == 1:\n",
    "    print(\"watermelon\")\n",
    "elif result[0][1] == 1:\n",
    "    print(\"tomato\")\n",
    "elif result[0][2] == 1:\n",
    "    print(\"turnip\")\n",
    "elif result[0][3] == 1:\n",
    "    print(\"sweetpotato\")\n",
    "elif result[0][4] == 1:\n",
    "    print(\"spinach\")\n",
    "elif result[0][5] == 1:\n",
    "    print(\"sweetcorn\")\n",
    "elif result[0][6] == 1:\n",
    "    print(\"soy beans\")\n",
    "elif result[0][7] == 1:\n",
    "    print(\"potato\")\n",
    "elif result[0][8] == 1:\n",
    "    print(\"raddish\")"
   ]
  },
  {
   "cell_type": "code",
   "execution_count": null,
   "id": "f987984c-0815-4494-96f2-273a34a6d955",
   "metadata": {},
   "outputs": [],
   "source": []
  },
  {
   "cell_type": "code",
   "execution_count": null,
   "id": "a943f29b-d493-4281-9772-e72a3a64c53d",
   "metadata": {},
   "outputs": [],
   "source": []
  },
  {
   "cell_type": "code",
   "execution_count": null,
   "id": "0ffd5e80-85a0-45cf-9bc4-a6ba7c1b62d8",
   "metadata": {},
   "outputs": [],
   "source": []
  },
  {
   "cell_type": "code",
   "execution_count": null,
   "id": "9b99d13e-058b-478a-b990-25667d614773",
   "metadata": {},
   "outputs": [],
   "source": []
  }
 ],
 "metadata": {
  "kernelspec": {
   "display_name": "Python 3 (ipykernel)",
   "language": "python",
   "name": "python3"
  },
  "language_info": {
   "codemirror_mode": {
    "name": "ipython",
    "version": 3
   },
   "file_extension": ".py",
   "mimetype": "text/x-python",
   "name": "python",
   "nbconvert_exporter": "python",
   "pygments_lexer": "ipython3",
   "version": "3.11.7"
  }
 },
 "nbformat": 4,
 "nbformat_minor": 5
}
